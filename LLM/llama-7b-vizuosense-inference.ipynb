{
 "cells": [
  {
   "cell_type": "code",
   "execution_count": null,
   "metadata": {
    "_cell_guid": "b1076dfc-b9ad-4769-8c92-a6c4dae69d19",
    "_uuid": "8f2839f25d086af736a60e9eeb907d3b93b6e0e5"
   },
   "outputs": [],
   "source": [
    "!pip install -q accelerate==0.21.0 peft==0.4.0 bitsandbytes==0.40.2 transformers==4.31.0 trl==0.4.7"
   ]
  },
  {
   "cell_type": "code",
   "execution_count": 1,
   "metadata": {
    "execution": {
     "iopub.execute_input": "2023-10-23T11:16:31.125719Z",
     "iopub.status.busy": "2023-10-23T11:16:31.125449Z",
     "iopub.status.idle": "2023-10-23T11:16:42.564949Z",
     "shell.execute_reply": "2023-10-23T11:16:42.564146Z",
     "shell.execute_reply.started": "2023-10-23T11:16:31.125692Z"
    }
   },
   "outputs": [
    {
     "name": "stderr",
     "output_type": "stream",
     "text": [
      "/opt/conda/lib/python3.10/site-packages/scipy/__init__.py:146: UserWarning: A NumPy version >=1.16.5 and <1.23.0 is required for this version of SciPy (detected version 1.23.5\n",
      "  warnings.warn(f\"A NumPy version >={np_minversion} and <{np_maxversion}\"\n"
     ]
    }
   ],
   "source": [
    "import os\n",
    "import torch\n",
    "from datasets import load_dataset\n",
    "from transformers import (\n",
    "    AutoModelForCausalLM,\n",
    "    AutoTokenizer,\n",
    "    BitsAndBytesConfig,\n",
    "    HfArgumentParser,\n",
    "    TrainingArguments,\n",
    "    pipeline,\n",
    "    logging,\n",
    ")\n",
    "from peft import LoraConfig, PeftModel\n",
    "from trl import SFTTrainer"
   ]
  },
  {
   "cell_type": "code",
   "execution_count": 2,
   "metadata": {
    "execution": {
     "iopub.execute_input": "2023-10-23T11:16:42.567494Z",
     "iopub.status.busy": "2023-10-23T11:16:42.566817Z",
     "iopub.status.idle": "2023-10-23T11:17:44.124781Z",
     "shell.execute_reply": "2023-10-23T11:17:44.123947Z",
     "shell.execute_reply.started": "2023-10-23T11:16:42.567458Z"
    }
   },
   "outputs": [
    {
     "data": {
      "application/vnd.jupyter.widget-view+json": {
       "model_id": "eefd1ee6922f4395982bbd6e9a50e370",
       "version_major": 2,
       "version_minor": 0
      },
      "text/plain": [
       "Loading checkpoint shards:   0%|          | 0/2 [00:00<?, ?it/s]"
      ]
     },
     "metadata": {},
     "output_type": "display_data"
    }
   ],
   "source": [
    "model_name = 'Kimata/llama-2-7b-Vizuosense'\n",
    "\n",
    "\n",
    "# Load base model\n",
    "model = AutoModelForCausalLM.from_pretrained(\n",
    "    model_name,\n",
    "    # quantization_config=bnb_config,\n",
    "    device_map='auto',\n",
    "    torch_dtype=torch.float16\n",
    "#     offload_folder = '/content/ckpt'\n",
    ")"
   ]
  },
  {
   "cell_type": "code",
   "execution_count": 3,
   "metadata": {
    "execution": {
     "iopub.execute_input": "2023-10-23T11:17:44.126411Z",
     "iopub.status.busy": "2023-10-23T11:17:44.126033Z",
     "iopub.status.idle": "2023-10-23T11:17:44.388414Z",
     "shell.execute_reply": "2023-10-23T11:17:44.387332Z",
     "shell.execute_reply.started": "2023-10-23T11:17:44.126377Z"
    }
   },
   "outputs": [],
   "source": [
    "# Load LLaMA tokenizer[/INST]\n",
    "tokenizer = AutoTokenizer.from_pretrained(model_name, trust_remote_code=True)\n",
    "tokenizer.pad_token = tokenizer.eos_token\n",
    "tokenizer.padding_side = \"right\" # Fix weird overflow issue with fp16 training\n"
   ]
  },
  {
   "cell_type": "code",
   "execution_count": 5,
   "metadata": {
    "execution": {
     "iopub.execute_input": "2023-10-23T11:17:51.613170Z",
     "iopub.status.busy": "2023-10-23T11:17:51.612763Z",
     "iopub.status.idle": "2023-10-23T11:18:13.551003Z",
     "shell.execute_reply": "2023-10-23T11:18:13.550036Z",
     "shell.execute_reply.started": "2023-10-23T11:17:51.613137Z"
    }
   },
   "outputs": [
    {
     "name": "stderr",
     "output_type": "stream",
     "text": [
      "/opt/conda/lib/python3.10/site-packages/transformers/generation/utils.py:1270: UserWarning: You have modified the pretrained model configuration to control generation. This is a deprecated strategy to control generation and will be removed soon, in a future version. Please use a generation configuration file (see https://huggingface.co/docs/transformers/main_classes/text_generation )\n",
      "  warnings.warn(\n"
     ]
    },
    {
     "name": "stdout",
     "output_type": "stream",
     "text": [
      "<s>[INST] [{'role': 'system',\n",
      "  'content': \"\n",
      "**Autonomous Driving Planner**\n",
      "Role: You are the brain of an autonomous vehicle. Plan a safe 3-second driving trajectory. Avoid collisions with other objects.\n",
      "\n",
      "Context\n",
      "- Coordinates: X-axis is perpendicular, and Y-axis is parallel to the direction you're facing. You're at point (0,0).\n",
      "- Objective: Create a 3-second route using 6 waypoints, one every 0.5 seconds.\n",
      "\n",
      "Inputs\n",
      "1. Perception & Prediction: Info about surrounding objects and their predicted movements.\n",
      "2. Historical Trajectory: Your past 2-second route, given by 4 waypoints.\n",
      "3. Ego-States: Your current state including velocity, heading angular velocity, can bus data, heading speed, and steering signal.\n",
      "4. Mission Goal: Goal location for the next 3 seconds.\n",
      "\n",
      "Task\n",
      "- Thought Process: Note down critical objects and potential effects from your perceptions and predictions.\n",
      "- Action Plan: Detail your meta-actions based on your analysis.\n",
      "- Trajectory Planning: Develop a safe and feasible 3-second route using 6 new waypoints.\n",
      "\n",
      "Output\n",
      "- Thoughts:\n",
      "  - Notable Objects\n",
      "    Potential Effects\n",
      "- Meta Action\n",
      "- Trajectory (MOST IMPORTANT):\n",
      "  - [(x1,y1), (x2,y2), ... , (x6,y6)]\n",
      "\"},\n",
      " {'role': 'user',\n",
      "  'content': '\n",
      "Perception and Prediction:\n",
      " - trafficcone at (5.25,0.04), moving to (5.25,0.01).\n",
      " - trafficcone at (-13.47,5.44), moving to (-13.47,5.40).\n",
      " - trafficcone at (-9.13,19.80), moving to (-9.12,19.76).\n",
      " - trafficcone at (-9.30,16.88), moving to (-9.30,16.88).\n",
      " - trafficcone at (-13.37,8.49), moving to (-13.36,8.41).\n",
      " - trafficcone at (-9.70,10.84), moving to (-9.71,10.79).\n",
      " - car at (1.08,15.43), moving to (1.16,16.90).\n",
      " - car at (0.50,9.57), moving to (0.52,9.56).\n",
      " - trafficcone at (-9.47,18.30), moving to (-9.47,18.30).\n",
      " - barrier at (-9.40,19.11), moving to (-9.43,18.96).\n",
      " - trafficcone at (5.47,3.14), moving to (5.46,3.14).\n",
      " - construction at (-11.76,14.44), moving to (-11.76,14.43).\n",
      " - trafficcone at (-9.29,13.81), moving to (-9.33,13.75).\n",
      " - truck at (3.59,7.69), moving to (3.59,7.79).\n",
      " - trafficcone at (-12.32,9.92), moving to (-12.32,9.92).\n",
      "Ego-States:\n",
      " - Velocity (vx,vy): (-0.00,0.00)\n",
      " - Heading Angular Velocity (v_yaw): (-0.00)\n",
      " - Acceleration (ax,ay): (0.00,0.00)\n",
      " - Can Bus: (-0.03,0.06)\n",
      " - Heading Speed: (0.00)\n",
      " - Steering: (-0.28)\n",
      "Historical Trajectory (last 2 seconds): [(0.00,0.00), (0.00,0.00), (0.00,0.00), (0.00,0.00)]\n",
      "Mission Goal: FORWARD\n",
      "'},\n",
      " {'role': 'assistant',\n",
      "  'content': 'Thoughts:\n",
      " [/INST]  Thoughts:\n",
      "\n",
      "Notable Objects:\n",
      "\n",
      "* Trafficcone at (-9.13,19.80)\n",
      "* Trafficcone at (-9.30,16.88)\n",
      "* Trafficcone at (-12.32,9.92)\n",
      "\n",
      "Potential Effects:\n",
      "\n",
      "* Trafficcone at (-9.13,19.80): moving to (-9.12,19.76)\n",
      "* Trafficcone at (-9.30,16.88): moving to (-9.30,16.88)\n",
      "* Trafficcone at (-12.32,9.92): moving to (-12.32,9.92)\n",
      "\n",
      "Meta Action: STOP\n",
      "\n",
      "Trajectory: [(0.00,0.00), (0.00,0.00), (0.00,0.00), (0.00,0.00), (0.00,0.00), (0.00,0.00)]\n"
     ]
    }
   ],
   "source": [
    "# Ignore warnings\n",
    "logging.set_verbosity(logging.CRITICAL)\n",
    "\n",
    "# Run text generation pipeline with our next model\n",
    "prompt = \"\"\"[{'role': 'system',\n",
    "  'content': \"\\n**Autonomous Driving Planner**\\nRole: You are the brain of an autonomous vehicle. Plan a safe 3-second driving trajectory. Avoid collisions with other objects.\\n\\nContext\\n- Coordinates: X-axis is perpendicular, and Y-axis is parallel to the direction you're facing. You're at point (0,0).\\n- Objective: Create a 3-second route using 6 waypoints, one every 0.5 seconds.\\n\\nInputs\\n1. Perception & Prediction: Info about surrounding objects and their predicted movements.\\n2. Historical Trajectory: Your past 2-second route, given by 4 waypoints.\\n3. Ego-States: Your current state including velocity, heading angular velocity, can bus data, heading speed, and steering signal.\\n4. Mission Goal: Goal location for the next 3 seconds.\\n\\nTask\\n- Thought Process: Note down critical objects and potential effects from your perceptions and predictions.\\n- Action Plan: Detail your meta-actions based on your analysis.\\n- Trajectory Planning: Develop a safe and feasible 3-second route using 6 new waypoints.\\n\\nOutput\\n- Thoughts:\\n  - Notable Objects\\n    Potential Effects\\n- Meta Action\\n- Trajectory (MOST IMPORTANT):\\n  - [(x1,y1), (x2,y2), ... , (x6,y6)]\\n\"},\n",
    " {'role': 'user',\n",
    "  'content': '\\nPerception and Prediction:\\n - trafficcone at (5.25,0.04), moving to (5.25,0.01).\\n - trafficcone at (-13.47,5.44), moving to (-13.47,5.40).\\n - trafficcone at (-9.13,19.80), moving to (-9.12,19.76).\\n - trafficcone at (-9.30,16.88), moving to (-9.30,16.88).\\n - trafficcone at (-13.37,8.49), moving to (-13.36,8.41).\\n - trafficcone at (-9.70,10.84), moving to (-9.71,10.79).\\n - car at (1.08,15.43), moving to (1.16,16.90).\\n - car at (0.50,9.57), moving to (0.52,9.56).\\n - trafficcone at (-9.47,18.30), moving to (-9.47,18.30).\\n - barrier at (-9.40,19.11), moving to (-9.43,18.96).\\n - trafficcone at (5.47,3.14), moving to (5.46,3.14).\\n - construction at (-11.76,14.44), moving to (-11.76,14.43).\\n - trafficcone at (-9.29,13.81), moving to (-9.33,13.75).\\n - truck at (3.59,7.69), moving to (3.59,7.79).\\n - trafficcone at (-12.32,9.92), moving to (-12.32,9.92).\\nEgo-States:\\n - Velocity (vx,vy): (-0.00,0.00)\\n - Heading Angular Velocity (v_yaw): (-0.00)\\n - Acceleration (ax,ay): (0.00,0.00)\\n - Can Bus: (-0.03,0.06)\\n - Heading Speed: (0.00)\\n - Steering: (-0.28)\\nHistorical Trajectory (last 2 seconds): [(0.00,0.00), (0.00,0.00), (0.00,0.00), (0.00,0.00)]\\nMission Goal: FORWARD\\n'},\n",
    " {'role': 'assistant',\n",
    "  'content': 'Thoughts:\\n\"\"\"\n",
    "\n",
    "\n",
    "\n",
    "\n",
    "pipe = pipeline(task=\"text-generation\", model=model, tokenizer=tokenizer, max_length=3000)\n",
    "result = pipe(f\"<s>[INST] {prompt} [/INST]\")\n",
    "print(result[0]['generated_text'])"
   ]
  },
  {
   "cell_type": "code",
   "execution_count": 6,
   "metadata": {
    "execution": {
     "iopub.execute_input": "2023-10-23T11:22:16.340089Z",
     "iopub.status.busy": "2023-10-23T11:22:16.339648Z",
     "iopub.status.idle": "2023-10-23T11:22:17.978537Z",
     "shell.execute_reply": "2023-10-23T11:22:17.977525Z",
     "shell.execute_reply.started": "2023-10-23T11:22:16.340056Z"
    }
   },
   "outputs": [
    {
     "name": "stdout",
     "output_type": "stream",
     "text": [
      "<s>[INST] Hello there. [/INST]  Hello! It's nice to meet you. Is there something I can help you with or would you like to chat?\n"
     ]
    }
   ],
   "source": [
    "# Ignore warnings\n",
    "logging.set_verbosity(logging.CRITICAL)\n",
    "\n",
    "# Run text generation pipeline with our next model\n",
    "prompt = \"\"\"Hello there.\"\"\"\n",
    "\n",
    "\n",
    "\n",
    "\n",
    "pipe = pipeline(task=\"text-generation\", model=model, tokenizer=tokenizer, max_length=100)\n",
    "result = pipe(f\"<s>[INST] {prompt} [/INST]\")\n",
    "print(result[0]['generated_text'])"
   ]
  },
  {
   "cell_type": "code",
   "execution_count": 10,
   "metadata": {
    "execution": {
     "iopub.execute_input": "2023-10-23T11:28:10.511854Z",
     "iopub.status.busy": "2023-10-23T11:28:10.510937Z",
     "iopub.status.idle": "2023-10-23T11:28:20.164036Z",
     "shell.execute_reply": "2023-10-23T11:28:20.162965Z",
     "shell.execute_reply.started": "2023-10-23T11:28:10.511821Z"
    }
   },
   "outputs": [
    {
     "name": "stdout",
     "output_type": "stream",
     "text": [
      "<s>[INST] \n",
      "[{'role': 'system',\n",
      "  'content': \"\n",
      "**Autonomous Driving Planner**\n",
      "Role: You are the brain of an autonomous vehicle. Plan a safe 3-second driving trajectory. Avoid collisions with other objects.\n",
      "\n",
      "Context\n",
      "- Coordinates: X-axis is perpendicular, and Y-axis is parallel to the direction you're facing. You're at point (0,0).\n",
      "- Objective: Create a 3-second route using 6 waypoints, one every 0.5 seconds.\n",
      "\n",
      "Inputs\n",
      "1. Perception & Prediction: Info about surrounding objects and their predicted movements.\n",
      "2. Historical Trajectory: Your past 2-second route, given by 4 waypoints.\n",
      "3. Ego-States: Your current state including velocity, heading angular velocity, can bus data, heading speed, and steering signal.\n",
      "4. Mission Goal: Goal location for the next 3 seconds.\n",
      "\n",
      "Task\n",
      "- Thought Process: Note down critical objects and potential effects from your perceptions and predictions.\n",
      "- Action Plan: Detail your meta-actions based on your analysis.\n",
      "- Trajectory Planning: Develop a safe and feasible 3-second route using 6 new waypoints.\n",
      "\n",
      "Output\n",
      "- Thoughts:\n",
      "  - Notable Objects\n",
      "    Potential Effects\n",
      "- Meta Action\n",
      "- Trajectory (MOST IMPORTANT):\n",
      "  - [(x1,y1), (x2,y2), ... , (x6,y6)]\n",
      "\"},\n",
      " {'role': 'user',\n",
      "  'content': '\n",
      "Perception and Prediction:\n",
      " - trafficcone at (4.83,6.20), moving to (4.85,6.19).\n",
      "\n",
      "   [/INST]  Thoughts:\n",
      "\n",
      "Notable Objects:\n",
      "\n",
      "* trafficcone at (4.83,6.20)\n",
      "\n",
      "Potential Effects:\n",
      "\n",
      "* moving to (4.85,6.19)\n",
      "\n",
      "Meta Action:\n",
      "\n",
      "* Adjusting velocity to slow down and maintain a safe distance from the trafficcone.\n",
      "\n",
      "Trajectory:\n",
      "[(0.00,-0.00), (0.00,-0.00), (0.00,-0.00), (0.00,-0.00), (0.00,-0.00), (0.00,-0.00)]\n"
     ]
    }
   ],
   "source": [
    "prompt = \"\"\"\n",
    "[{'role': 'system',\n",
    "  'content': \"\\n**Autonomous Driving Planner**\\nRole: You are the brain of an autonomous vehicle. Plan a safe 3-second driving trajectory. Avoid collisions with other objects.\\n\\nContext\\n- Coordinates: X-axis is perpendicular, and Y-axis is parallel to the direction you're facing. You're at point (0,0).\\n- Objective: Create a 3-second route using 6 waypoints, one every 0.5 seconds.\\n\\nInputs\\n1. Perception & Prediction: Info about surrounding objects and their predicted movements.\\n2. Historical Trajectory: Your past 2-second route, given by 4 waypoints.\\n3. Ego-States: Your current state including velocity, heading angular velocity, can bus data, heading speed, and steering signal.\\n4. Mission Goal: Goal location for the next 3 seconds.\\n\\nTask\\n- Thought Process: Note down critical objects and potential effects from your perceptions and predictions.\\n- Action Plan: Detail your meta-actions based on your analysis.\\n- Trajectory Planning: Develop a safe and feasible 3-second route using 6 new waypoints.\\n\\nOutput\\n- Thoughts:\\n  - Notable Objects\\n    Potential Effects\\n- Meta Action\\n- Trajectory (MOST IMPORTANT):\\n  - [(x1,y1), (x2,y2), ... , (x6,y6)]\\n\"},\n",
    " {'role': 'user',\n",
    "  'content': '\\nPerception and Prediction:\\n - trafficcone at (4.83,6.20), moving to (4.85,6.19).\\n\n",
    "  \"\"\"\n",
    "\n",
    "pipe = pipeline(task=\"text-generation\", model=model, tokenizer=tokenizer, max_length=len(prompt) + 300)\n",
    "result = pipe(f\"<s>[INST] {prompt} [/INST]\")\n",
    "print(result[0]['generated_text'])"
   ]
  },
  {
   "cell_type": "code",
   "execution_count": 11,
   "metadata": {
    "execution": {
     "iopub.execute_input": "2023-10-23T11:29:19.357084Z",
     "iopub.status.busy": "2023-10-23T11:29:19.356101Z",
     "iopub.status.idle": "2023-10-23T11:29:43.762847Z",
     "shell.execute_reply": "2023-10-23T11:29:43.761851Z",
     "shell.execute_reply.started": "2023-10-23T11:29:19.357043Z"
    }
   },
   "outputs": [
    {
     "name": "stdout",
     "output_type": "stream",
     "text": [
      "<s>[INST] \n",
      "[{'role': 'system',\n",
      "  'content': \"\n",
      "**Autonomous Driving Planner**\n",
      "Role: You are the brain of an autonomous vehicle. Plan a safe 3-second driving trajectory. Avoid collisions with other objects.\n",
      "\n",
      "Context\n",
      "- Coordinates: X-axis is perpendicular, and Y-axis is parallel to the direction you're facing. You're at point (0,0).\n",
      "- Objective: Create a 3-second route using 6 waypoints, one every 0.5 seconds.\n",
      "\n",
      "Inputs\n",
      "1. Perception & Prediction: Info about surrounding objects and their predicted movements.\n",
      "2. Historical Trajectory: Your past 2-second route, given by 4 waypoints.\n",
      "3. Ego-States: Your current state including velocity, heading angular velocity, can bus data, heading speed, and steering signal.\n",
      "4. Mission Goal: Goal location for the next 3 seconds.\n",
      "\n",
      "Task\n",
      "- Thought Process: Note down critical objects and potential effects from your perceptions and predictions.\n",
      "- Action Plan: Detail your meta-actions based on your analysis.\n",
      "- Trajectory Planning: Develop a safe and feasible 3-second route using 6 new waypoints.\n",
      "\n",
      "Output\n",
      "- Thoughts:\n",
      "  - Notable Objects\n",
      "    Potential Effects\n",
      "- Meta Action\n",
      "- Trajectory (MOST IMPORTANT):\n",
      "  - [(x1,y1), (x2,y2), ... , (x6,y6)]\n",
      "\"},\n",
      " {'role': 'user',\n",
      "  'content': '\n",
      "Perception and Prediction:\n",
      " - adult at (9.26,0.39), moving to (9.26,0.39).\n",
      " - bicycle at (-15.92,12.70), moving to unknown location.\n",
      " - truck at (-10.31,4.46), moving to (-7.89,-17.56).\n",
      " - car at (-15.47,18.41), moving to (-13.37,-1.99).\n",
      " - adult at (-19.45,3.48), moving to (-19.68,8.30).\n",
      " - adult at (-18.66,-2.51), moving to (-19.42,2.35).\n",
      " - car at (-11.52,15.16), moving to (-9.58,-3.13).\n",
      "Ego-States:\n",
      " - Velocity (vx,vy): (-0.02,4.35)\n",
      " - Heading Angular Velocity (v_yaw): (-0.00)\n",
      " - Acceleration (ax,ay): (0.10,-0.36)\n",
      " - Can Bus: (0.66,-0.02)\n",
      " - Heading Speed: (4.37)\n",
      " - Steering: (-0.10)\n",
      "Historical Trajectory (last 2 seconds): [(0.09,-17.28), (0.10,-13.26), (0.05,-9.09), (-0.03,-4.37)]\n",
      "Mission Goal: FORWARD\n",
      "'},\n",
      " {'role': 'assistant',\n",
      "  [/INST]  Thoughts:\n",
      "\n",
      "Notable Objects:\n",
      "\n",
      "* Adult at (9.26,0.39): Potential collision with the adult at (9.26,0.39).\n",
      "* Bicycle at (-15.92,12.70): Potential collision with the bicycle at (-15.92,12.70).\n",
      "* Truck at (-10.31,4.46): Potential collision with the truck at (-10.31,4.46).\n",
      "* Car at (-15.47,18.41): Potential collision with the car at (-15.47,18.41).\n",
      "* Adult at (-19.45,3.48): Potential collision with the adult at (-19.45,3.48).\n",
      "* Adult at (-18.66,-2.51): Potential collision with the adult at (-18.66,-2.51).\n",
      "* Car at (-11.52,15.16): Potential collision with the car at (-11.52,15.16).\n",
      "\n",
      "Meta Action:\n",
      "\n",
      "* Move forward with a constant velocity of 4.37 m/s.\n",
      "\n",
      "Trajectory:\n",
      "[(0.03,4.37), (0.06,8.74), (0.08,13.10), (0.09,17.47), (0.10,21.83), (0.10,26.19)]\n"
     ]
    }
   ],
   "source": [
    "prompt = \"\"\"\n",
    "[{'role': 'system',\n",
    "  'content': \"\\n**Autonomous Driving Planner**\\nRole: You are the brain of an autonomous vehicle. Plan a safe 3-second driving trajectory. Avoid collisions with other objects.\\n\\nContext\\n- Coordinates: X-axis is perpendicular, and Y-axis is parallel to the direction you're facing. You're at point (0,0).\\n- Objective: Create a 3-second route using 6 waypoints, one every 0.5 seconds.\\n\\nInputs\\n1. Perception & Prediction: Info about surrounding objects and their predicted movements.\\n2. Historical Trajectory: Your past 2-second route, given by 4 waypoints.\\n3. Ego-States: Your current state including velocity, heading angular velocity, can bus data, heading speed, and steering signal.\\n4. Mission Goal: Goal location for the next 3 seconds.\\n\\nTask\\n- Thought Process: Note down critical objects and potential effects from your perceptions and predictions.\\n- Action Plan: Detail your meta-actions based on your analysis.\\n- Trajectory Planning: Develop a safe and feasible 3-second route using 6 new waypoints.\\n\\nOutput\\n- Thoughts:\\n  - Notable Objects\\n    Potential Effects\\n- Meta Action\\n- Trajectory (MOST IMPORTANT):\\n  - [(x1,y1), (x2,y2), ... , (x6,y6)]\\n\"},\n",
    " {'role': 'user',\n",
    "  'content': '\\nPerception and Prediction:\\n - adult at (9.26,0.39), moving to (9.26,0.39).\\n - bicycle at (-15.92,12.70), moving to unknown location.\\n - truck at (-10.31,4.46), moving to (-7.89,-17.56).\\n - car at (-15.47,18.41), moving to (-13.37,-1.99).\\n - adult at (-19.45,3.48), moving to (-19.68,8.30).\\n - adult at (-18.66,-2.51), moving to (-19.42,2.35).\\n - car at (-11.52,15.16), moving to (-9.58,-3.13).\\nEgo-States:\\n - Velocity (vx,vy): (-0.02,4.35)\\n - Heading Angular Velocity (v_yaw): (-0.00)\\n - Acceleration (ax,ay): (0.10,-0.36)\\n - Can Bus: (0.66,-0.02)\\n - Heading Speed: (4.37)\\n - Steering: (-0.10)\\nHistorical Trajectory (last 2 seconds): [(0.09,-17.28), (0.10,-13.26), (0.05,-9.09), (-0.03,-4.37)]\\nMission Goal: FORWARD\\n'},\n",
    " {'role': 'assistant',\n",
    " \"\"\"\n",
    "\n",
    "pipe = pipeline(task=\"text-generation\", model=model, tokenizer=tokenizer, max_length=len(prompt) + 300)\n",
    "result = pipe(f\"<s>[INST] {prompt} [/INST]\")\n",
    "print(result[0]['generated_text'])"
   ]
  },
  {
   "cell_type": "code",
   "execution_count": null,
   "metadata": {},
   "outputs": [],
   "source": []
  }
 ],
 "metadata": {
  "kernelspec": {
   "display_name": "Python 3 (ipykernel)",
   "language": "python",
   "name": "python3"
  },
  "language_info": {
   "codemirror_mode": {
    "name": "ipython",
    "version": 3
   },
   "file_extension": ".py",
   "mimetype": "text/x-python",
   "name": "python",
   "nbconvert_exporter": "python",
   "pygments_lexer": "ipython3",
   "version": "3.11.4"
  }
 },
 "nbformat": 4,
 "nbformat_minor": 4
}
