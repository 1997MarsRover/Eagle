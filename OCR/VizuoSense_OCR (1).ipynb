{
  "cells": [
    {
      "cell_type": "markdown",
      "id": "51081430-b64a-44c3-989a-f42cec600736",
      "metadata": {
        "tags": [],
        "id": "51081430-b64a-44c3-989a-f42cec600736"
      },
      "source": [
        "# OCR #\n",
        "This Notebook consist the code for the OCR Feature of VizuoSense© gadget.\n",
        "\n",
        "OCR![The OCR](https://uploads-ssl.webflow.com/61e7d259b7746e3f63f0b6be/62dff621ff6976b401611642_Sans%20titre%20(20).png)"
      ]
    },
    {
      "cell_type": "markdown",
      "id": "0ea28309-aac3-43a8-bf02-023d32381ce0",
      "metadata": {
        "tags": [],
        "id": "0ea28309-aac3-43a8-bf02-023d32381ce0"
      },
      "source": [
        "### ***To start, follow the given instructions below.*** ###\n",
        "##### Install opencv for python library. This library is the one responsible for all image data processing. eg images. #####\n",
        "For more information on opencv-python installation [click here](https://pypi.org/project/opencv-python/)\n",
        "##### Install pytesseract library. This library is the one responsible for extraction of text visual data eg images. #####\n",
        "For more information on pytesseract installation [click here](https://pypi.org/project/pytesseract/)\n",
        "##### Install pyttsx3 library. This library is the one responsible for outputting the speech from text. #####\n",
        "For more information on pyttsx3 installation [click here](https://pypi.org/project/pyttsx3/)\n",
        "\n",
        "Install the libraries by running the cells below."
      ]
    },
    {
      "cell_type": "code",
      "execution_count": 6,
      "id": "610800c5-26a3-4169-9044-c2e6c9d3fcc1",
      "metadata": {
        "tags": [],
        "colab": {
          "base_uri": "https://localhost:8080/"
        },
        "id": "610800c5-26a3-4169-9044-c2e6c9d3fcc1",
        "outputId": "c93201bc-d4c8-40cd-d2ca-d75d75c7a7dd"
      },
      "outputs": [
        {
          "output_type": "stream",
          "name": "stdout",
          "text": [
            "Reading package lists... Done\n",
            "Building dependency tree... Done\n",
            "Reading state information... Done\n",
            "The following additional packages will be installed:\n",
            "  tesseract-ocr-eng tesseract-ocr-osd\n",
            "The following NEW packages will be installed:\n",
            "  tesseract-ocr tesseract-ocr-eng tesseract-ocr-osd\n",
            "0 upgraded, 3 newly installed, 0 to remove and 10 not upgraded.\n",
            "Need to get 4,816 kB of archives.\n",
            "After this operation, 15.6 MB of additional disk space will be used.\n",
            "Get:1 http://archive.ubuntu.com/ubuntu jammy/universe amd64 tesseract-ocr-eng all 1:4.00~git30-7274cfa-1.1 [1,591 kB]\n",
            "Get:2 http://archive.ubuntu.com/ubuntu jammy/universe amd64 tesseract-ocr-osd all 1:4.00~git30-7274cfa-1.1 [2,990 kB]\n",
            "Get:3 http://archive.ubuntu.com/ubuntu jammy/universe amd64 tesseract-ocr amd64 4.1.1-2.1build1 [236 kB]\n",
            "Fetched 4,816 kB in 0s (23.8 MB/s)\n",
            "debconf: unable to initialize frontend: Dialog\n",
            "debconf: (No usable dialog-like program is installed, so the dialog based frontend cannot be used. at /usr/share/perl5/Debconf/FrontEnd/Dialog.pm line 78, <> line 3.)\n",
            "debconf: falling back to frontend: Readline\n",
            "debconf: unable to initialize frontend: Readline\n",
            "debconf: (This frontend requires a controlling tty.)\n",
            "debconf: falling back to frontend: Teletype\n",
            "dpkg-preconfigure: unable to re-open stdin: \n",
            "Selecting previously unselected package tesseract-ocr-eng.\n",
            "(Reading database ... 120880 files and directories currently installed.)\n",
            "Preparing to unpack .../tesseract-ocr-eng_1%3a4.00~git30-7274cfa-1.1_all.deb ...\n",
            "Unpacking tesseract-ocr-eng (1:4.00~git30-7274cfa-1.1) ...\n",
            "Selecting previously unselected package tesseract-ocr-osd.\n",
            "Preparing to unpack .../tesseract-ocr-osd_1%3a4.00~git30-7274cfa-1.1_all.deb ...\n",
            "Unpacking tesseract-ocr-osd (1:4.00~git30-7274cfa-1.1) ...\n",
            "Selecting previously unselected package tesseract-ocr.\n",
            "Preparing to unpack .../tesseract-ocr_4.1.1-2.1build1_amd64.deb ...\n",
            "Unpacking tesseract-ocr (4.1.1-2.1build1) ...\n",
            "Setting up tesseract-ocr-eng (1:4.00~git30-7274cfa-1.1) ...\n",
            "Setting up tesseract-ocr-osd (1:4.00~git30-7274cfa-1.1) ...\n",
            "Setting up tesseract-ocr (4.1.1-2.1build1) ...\n",
            "Processing triggers for man-db (2.10.2-1) ...\n"
          ]
        }
      ],
      "source": [
        "!sudo apt-get install tesseract-ocr"
      ]
    },
    {
      "cell_type": "code",
      "execution_count": 7,
      "id": "e9234c98-b023-40db-8a7b-d209bf801ecb",
      "metadata": {
        "colab": {
          "base_uri": "https://localhost:8080/"
        },
        "id": "e9234c98-b023-40db-8a7b-d209bf801ecb",
        "outputId": "6e8a725c-e5ae-4f26-db0b-db7282b04df7"
      },
      "outputs": [
        {
          "output_type": "stream",
          "name": "stdout",
          "text": [
            "Requirement already satisfied: pytesseract in /usr/local/lib/python3.10/dist-packages (0.3.10)\n",
            "Requirement already satisfied: packaging>=21.3 in /usr/local/lib/python3.10/dist-packages (from pytesseract) (23.2)\n",
            "Requirement already satisfied: Pillow>=8.0.0 in /usr/local/lib/python3.10/dist-packages (from pytesseract) (9.4.0)\n"
          ]
        }
      ],
      "source": [
        "!pip install pytesseract"
      ]
    },
    {
      "cell_type": "code",
      "source": [
        "!sudo apt-get install espeak"
      ],
      "metadata": {
        "colab": {
          "base_uri": "https://localhost:8080/"
        },
        "id": "er3wq9jv-fDX",
        "outputId": "f2358b52-7c9c-482a-f502-f5188143e816"
      },
      "id": "er3wq9jv-fDX",
      "execution_count": 9,
      "outputs": [
        {
          "output_type": "stream",
          "name": "stdout",
          "text": [
            "Reading package lists... Done\n",
            "Building dependency tree... Done\n",
            "Reading state information... Done\n",
            "The following additional packages will be installed:\n",
            "  espeak-data libespeak1 libportaudio2 libsonic0\n",
            "The following NEW packages will be installed:\n",
            "  espeak espeak-data libespeak1 libportaudio2 libsonic0\n",
            "0 upgraded, 5 newly installed, 0 to remove and 10 not upgraded.\n",
            "Need to get 1,382 kB of archives.\n",
            "After this operation, 3,178 kB of additional disk space will be used.\n",
            "Get:1 http://archive.ubuntu.com/ubuntu jammy/universe amd64 libportaudio2 amd64 19.6.0-1.1 [65.3 kB]\n",
            "Get:2 http://archive.ubuntu.com/ubuntu jammy/main amd64 libsonic0 amd64 0.2.0-11build1 [10.3 kB]\n",
            "Get:3 http://archive.ubuntu.com/ubuntu jammy/universe amd64 espeak-data amd64 1.48.15+dfsg-3 [1,085 kB]\n",
            "Get:4 http://archive.ubuntu.com/ubuntu jammy/universe amd64 libespeak1 amd64 1.48.15+dfsg-3 [156 kB]\n",
            "Get:5 http://archive.ubuntu.com/ubuntu jammy/universe amd64 espeak amd64 1.48.15+dfsg-3 [64.2 kB]\n",
            "Fetched 1,382 kB in 1s (1,762 kB/s)\n",
            "debconf: unable to initialize frontend: Dialog\n",
            "debconf: (No usable dialog-like program is installed, so the dialog based frontend cannot be used. at /usr/share/perl5/Debconf/FrontEnd/Dialog.pm line 78, <> line 5.)\n",
            "debconf: falling back to frontend: Readline\n",
            "debconf: unable to initialize frontend: Readline\n",
            "debconf: (This frontend requires a controlling tty.)\n",
            "debconf: falling back to frontend: Teletype\n",
            "dpkg-preconfigure: unable to re-open stdin: \n",
            "Selecting previously unselected package libportaudio2:amd64.\n",
            "(Reading database ... 120927 files and directories currently installed.)\n",
            "Preparing to unpack .../libportaudio2_19.6.0-1.1_amd64.deb ...\n",
            "Unpacking libportaudio2:amd64 (19.6.0-1.1) ...\n",
            "Selecting previously unselected package libsonic0:amd64.\n",
            "Preparing to unpack .../libsonic0_0.2.0-11build1_amd64.deb ...\n",
            "Unpacking libsonic0:amd64 (0.2.0-11build1) ...\n",
            "Selecting previously unselected package espeak-data:amd64.\n",
            "Preparing to unpack .../espeak-data_1.48.15+dfsg-3_amd64.deb ...\n",
            "Unpacking espeak-data:amd64 (1.48.15+dfsg-3) ...\n",
            "Selecting previously unselected package libespeak1:amd64.\n",
            "Preparing to unpack .../libespeak1_1.48.15+dfsg-3_amd64.deb ...\n",
            "Unpacking libespeak1:amd64 (1.48.15+dfsg-3) ...\n",
            "Selecting previously unselected package espeak.\n",
            "Preparing to unpack .../espeak_1.48.15+dfsg-3_amd64.deb ...\n",
            "Unpacking espeak (1.48.15+dfsg-3) ...\n",
            "Setting up libportaudio2:amd64 (19.6.0-1.1) ...\n",
            "Setting up libsonic0:amd64 (0.2.0-11build1) ...\n",
            "Setting up espeak-data:amd64 (1.48.15+dfsg-3) ...\n",
            "Setting up libespeak1:amd64 (1.48.15+dfsg-3) ...\n",
            "Setting up espeak (1.48.15+dfsg-3) ...\n",
            "Processing triggers for man-db (2.10.2-1) ...\n",
            "Processing triggers for libc-bin (2.35-0ubuntu3.4) ...\n",
            "/sbin/ldconfig.real: /usr/local/lib/libtbbbind.so.3 is not a symbolic link\n",
            "\n",
            "/sbin/ldconfig.real: /usr/local/lib/libtbbbind_2_0.so.3 is not a symbolic link\n",
            "\n",
            "/sbin/ldconfig.real: /usr/local/lib/libtbb.so.12 is not a symbolic link\n",
            "\n",
            "/sbin/ldconfig.real: /usr/local/lib/libtbbmalloc.so.2 is not a symbolic link\n",
            "\n",
            "/sbin/ldconfig.real: /usr/local/lib/libtbbmalloc_proxy.so.2 is not a symbolic link\n",
            "\n",
            "/sbin/ldconfig.real: /usr/local/lib/libtbbbind_2_5.so.3 is not a symbolic link\n",
            "\n"
          ]
        }
      ]
    },
    {
      "cell_type": "code",
      "execution_count": 2,
      "id": "2ff53622-e4d1-4b4d-88d6-613e9ea15dd9",
      "metadata": {
        "colab": {
          "base_uri": "https://localhost:8080/"
        },
        "id": "2ff53622-e4d1-4b4d-88d6-613e9ea15dd9",
        "outputId": "db73c5ef-0b04-4e29-b574-3548cd1a9227"
      },
      "outputs": [
        {
          "output_type": "stream",
          "name": "stdout",
          "text": [
            "Collecting pyttsx3\n",
            "  Downloading pyttsx3-2.90-py3-none-any.whl (39 kB)\n",
            "Installing collected packages: pyttsx3\n",
            "Successfully installed pyttsx3-2.90\n"
          ]
        }
      ],
      "source": [
        "!pip install pyttsx3"
      ]
    },
    {
      "cell_type": "code",
      "execution_count": 10,
      "id": "0cb01d9a-d36e-4ef2-b10b-110d9aa65551",
      "metadata": {
        "tags": [],
        "colab": {
          "base_uri": "https://localhost:8080/"
        },
        "id": "0cb01d9a-d36e-4ef2-b10b-110d9aa65551",
        "outputId": "83058a1b-2c97-45c2-f4f7-aea28dd02bc2"
      },
      "outputs": [
        {
          "output_type": "stream",
          "name": "stdout",
          "text": [
            "200\n",
            " \n",
            "\n",
            " \n",
            "\n",
            " \n",
            "\n",
            " \n",
            "\n",
            "Sector 17\n",
            "New Bombay\n",
            "\n",
            "6th July, 2013\n",
            "\n",
            "Dear Maya\n",
            "\n",
            "Thank you very much for your last letter. It was great to hear\n",
            "from you after so many months. You seem to be having a\n",
            "nice time in France.\n",
            "\n",
            "‘Thanks also for the photographs. I absolutely loved that snap\n",
            "of yours standing in front of the Eiffel Tower. France looks\n",
            "stunning. Someday, I would definitely lke to go there.\n",
            "\n",
            "There's not much happening here. I am busy with my work\n",
            "and kids.\n",
            "\n",
            "By the way, are you coming home anytime soon? If you are,\n",
            "let me know the dates and we can arrange to meet up.\n",
            "\n",
            "Hope to see you soon!\n",
            "\n",
            "Aditi\n",
            "\n",
            " \n",
            "\n",
            " \n",
            "\n",
            " \n",
            "\n",
            " \n",
            "\f\n",
            "1.6613843441009521\n"
          ]
        }
      ],
      "source": [
        "import cv2 as cv\n",
        "import time, datetime, pytesseract, os\n",
        "import  pyttsx3\n",
        "\n",
        "def ocr():\n",
        "    img_cv = cv.imread(\"/content/testtext.png\")\n",
        "    text_val = ' all'\n",
        "    # By default OpenCV stores images in BGR format and since pytesseract assumes RGB format,\n",
        "    # we need to convert from BGR to RGB format/mode:\n",
        "    img_rgb = cv.cvtColor(img_cv, cv.COLOR_BGR2RGB)\n",
        "    extracted_text = pytesseract.image_to_string(img_rgb)\n",
        "\n",
        "    with open(\"/content/file\", \"w+\") as read_text:\n",
        "        read_text.write(extracted_text)\n",
        "        write_time = str(datetime.datetime.now().date()) +' ' + str(datetime.datetime.now().hour) + ' ' +  str(datetime.datetime.now().minute) +' ' +  str(datetime.datetime.now().second)\n",
        "        save_name= 'Saved_at_' + write_time +'.txt'\n",
        "        read_text.seek(0)\n",
        "        red = read_text.read()\n",
        "        text_val = red\n",
        "        engine = pyttsx3.init()\n",
        "        engine.setProperty('rate', 150)\n",
        "        print(engine.getProperty('rate'))\n",
        "        engine.say(text_val)\n",
        "        engine.runAndWait()\n",
        "        print(red)\n",
        "        #os.rename(\"D:\\programming\\Python\\Scripts and codes\\Computer vision\\Resources\\save\\Saved_at_.txt\",\n",
        "         #         f\"D:\\programming\\Python\\Scripts and codes\\Computer vision\\Resources\\save\\ {save_name} \")\n",
        "        #os.rename(\"D:\\programming\\Python\\Scripts and codes\\Computer vision\\Resources\\save\\Saved_at_.txt\",\n",
        "        #f\"D:\\programming\\Python\\Scripts and codes\\Computer vision\\Resources\\save\\ {save_name} \")\n",
        "\n",
        "    # OR\n",
        "    # img_rgb = Image.frombytes('RGB', img_cv.shape[:2], img_cv, 'raw', 'BGR', 0, 0)\n",
        "    # print(pytesseract.image_to_string(img_rgb))\n",
        "\n",
        "\n",
        "#e1 = cv.getTickCount()\n",
        "t1= time.time()\n",
        "ocr()\n",
        "#e2 = cv.getTickCount()\n",
        "#time = (e2 - e1)/ cv.getTickFrequency()\n",
        "\n",
        "t2 = time.time()\n",
        "print(t2-t1)"
      ]
    }
  ],
  "metadata": {
    "kernelspec": {
      "display_name": "Python 3 (ipykernel)",
      "language": "python",
      "name": "python3"
    },
    "language_info": {
      "codemirror_mode": {
        "name": "ipython",
        "version": 3
      },
      "file_extension": ".py",
      "mimetype": "text/x-python",
      "name": "python",
      "nbconvert_exporter": "python",
      "pygments_lexer": "ipython3",
      "version": "3.11.4"
    },
    "colab": {
      "provenance": []
    }
  },
  "nbformat": 4,
  "nbformat_minor": 5
}