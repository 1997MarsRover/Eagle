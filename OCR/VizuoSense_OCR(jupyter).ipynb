{
 "cells": [
  {
   "cell_type": "markdown",
   "id": "51081430-b64a-44c3-989a-f42cec600736",
   "metadata": {
    "tags": []
   },
   "source": [
    "# OCR #\n",
    "This Notebook consist the code for the OCR Feature of VizuoSense© gadget.\n",
    "\n",
    "OCR![The OCR](https://uploads-ssl.webflow.com/61e7d259b7746e3f63f0b6be/62dff621ff6976b401611642_Sans%20titre%20(20).png)"
   ]
  },
  {
   "cell_type": "markdown",
   "id": "0ea28309-aac3-43a8-bf02-023d32381ce0",
   "metadata": {
    "tags": []
   },
   "source": [
    "### ***To start, follow the given instructions below.*** ###\n",
    "##### Install opencv for python library. This library is the one responsible for all image data processing. eg images. #####\n",
    "For more information on opencv-python installation [click here](https://pypi.org/project/opencv-python/)\n",
    "##### Install pytesseract library. This library is the one responsible for extraction of text visual data eg images. #####\n",
    "For more information on pytesseract installation [click here](https://pypi.org/project/pytesseract/)\n",
    "##### Install pyttsx3 library. This library is the one responsible for outputting the speech from text. #####\n",
    "For more information on pyttsx3 installation [click here](https://pypi.org/project/pyttsx3/)\n",
    "\n",
    "Install the libraries by running the cells below."
   ]
  },
  {
   "cell_type": "code",
   "execution_count": null,
   "id": "610800c5-26a3-4169-9044-c2e6c9d3fcc1",
   "metadata": {
    "tags": []
   },
   "outputs": [],
   "source": [
    "#pip install opencv-python"
   ]
  },
  {
   "cell_type": "code",
   "execution_count": null,
   "id": "e9234c98-b023-40db-8a7b-d209bf801ecb",
   "metadata": {},
   "outputs": [],
   "source": [
    "pip install pytesseract"
   ]
  },
  {
   "cell_type": "code",
   "execution_count": null,
   "id": "2ff53622-e4d1-4b4d-88d6-613e9ea15dd9",
   "metadata": {},
   "outputs": [],
   "source": [
    "pip install pyttsx3"
   ]
  },
  {
   "cell_type": "code",
   "execution_count": 4,
   "id": "0cb01d9a-d36e-4ef2-b10b-110d9aa65551",
   "metadata": {
    "tags": []
   },
   "outputs": [
    {
     "name": "stdout",
     "output_type": "stream",
     "text": [
      "200\n"
     ]
    },
    {
     "name": "stderr",
     "output_type": "stream",
     "text": [
      "Exception ignored in: <function BSTR.__del__ at 0x0000020DD3A4A0C0>\n",
      "Traceback (most recent call last):\n",
      "  File \"C:\\Anaconda\\Lib\\site-packages\\comtypes\\__init__.py\", line 699, in __del__\n",
      "    def __del__(self, _free=windll.oleaut32.SysFreeString):\n",
      "\n",
      "KeyboardInterrupt: \n"
     ]
    },
    {
     "name": "stdout",
     "output_type": "stream",
     "text": [
      "Review\n",
      "\n",
      "Words combine to form statements, which in turn combine to form texts. No\n",
      "text can be understood outside its context of use and interpretation. The most\n",
      "important statements for us to consider are claims. When properly linked\n",
      "together, they form a text, which is either an argument or an explanation.\n",
      "Claims state, in language, the events, ideas, and things that make up our\n",
      "world, asserting that what they represent is true. Claims are the key elements\n",
      "from which we build our arguments and explanations. The analytical function\n",
      "of claims is, however, often obscured by their mode of expression.\n",
      "\n",
      "By understanding what claims are and what their properties are, we can\n",
      "better understand how to use claims as premises and conclusions in our\n",
      "reasoning. Claims have three significant properties. First, a claim always\n",
      "contains an internal connection between two or more companents. One or bath\n",
      "of these components can be a claim in its own right, but functioning differ-\n",
      "ently—as an element within a claim. Second, claims always include some ind\n",
      "cation of scope and certainty, though often they are implied. Third, claims are\n",
      "either descriptive (what is) or are value judgments (what ought to be). Many\n",
      "claims appear to be descriptive but either contain implict value judgments or\n",
      "become value-laden when read in combination with other claims\n",
      "\n",
      "Claims are used as either premises or conclusions; the difference\n",
      "between them is determined by how we use them in any particular act of\n",
      "reasoning. Any claim can serve as a premise or conclusion. That said, we can\n",
      "see how conclusion-claims must relate to the particular purposes of the\n",
      "reasoning: predicting, establishing, or appealing for action, and explaining or\n",
      "justifying. In the last case, the reasoning involves an explanation, whereas\n",
      "the other purposes require an argument.\n",
      "\n",
      "CONCEPT CHECK\n",
      "\n",
      "“The folowing terms and concepts are introduced in this chapter. Before checking\n",
      "in the Glossary, write a short definition of cach term:\n",
      "\n"
     ]
    },
    {
     "ename": "PermissionError",
     "evalue": "[WinError 32] The process cannot access the file because it is being used by another process: 'D:\\\\programming\\\\Python\\\\Scripts and codes\\\\Computer vision\\\\Resources\\\\save\\\\Saved_at_.txt' -> 'D:\\\\programming\\\\Python\\\\Scripts and codes\\\\Computer vision\\\\Resources\\\\save\\\\ Saved_at_2023-10-05 20 4 59.txt '",
     "output_type": "error",
     "traceback": [
      "\u001b[1;31m---------------------------------------------------------------------------\u001b[0m",
      "\u001b[1;31mPermissionError\u001b[0m                           Traceback (most recent call last)",
      "Cell \u001b[1;32mIn[4], line 38\u001b[0m\n\u001b[0;32m     31\u001b[0m     \u001b[38;5;66;03m# OR\u001b[39;00m\n\u001b[0;32m     32\u001b[0m     \u001b[38;5;66;03m# img_rgb = Image.frombytes('RGB', img_cv.shape[:2], img_cv, 'raw', 'BGR', 0, 0)\u001b[39;00m\n\u001b[0;32m     33\u001b[0m     \u001b[38;5;66;03m# print(pytesseract.image_to_string(img_rgb))\u001b[39;00m\n\u001b[0;32m     34\u001b[0m \n\u001b[0;32m     35\u001b[0m \n\u001b[0;32m     36\u001b[0m \u001b[38;5;66;03m#e1 = cv.getTickCount()\u001b[39;00m\n\u001b[0;32m     37\u001b[0m t1\u001b[38;5;241m=\u001b[39m time\u001b[38;5;241m.\u001b[39mtime()\n\u001b[1;32m---> 38\u001b[0m ocr()\n\u001b[0;32m     39\u001b[0m \u001b[38;5;66;03m#e2 = cv.getTickCount()\u001b[39;00m\n\u001b[0;32m     40\u001b[0m \u001b[38;5;66;03m#time = (e2 - e1)/ cv.getTickFrequency()\u001b[39;00m\n\u001b[0;32m     42\u001b[0m t2 \u001b[38;5;241m=\u001b[39m time\u001b[38;5;241m.\u001b[39mtime()\n",
      "Cell \u001b[1;32mIn[4], line 28\u001b[0m, in \u001b[0;36mocr\u001b[1;34m()\u001b[0m\n\u001b[0;32m     25\u001b[0m \u001b[38;5;28mprint\u001b[39m(red)\n\u001b[0;32m     26\u001b[0m \u001b[38;5;66;03m#os.rename(\"D:\\programming\\Python\\Scripts and codes\\Computer vision\\Resources\\save\\Saved_at_.txt\",\u001b[39;00m\n\u001b[0;32m     27\u001b[0m  \u001b[38;5;66;03m#         f\"D:\\programming\\Python\\Scripts and codes\\Computer vision\\Resources\\save\\ {save_name} \")\u001b[39;00m\n\u001b[1;32m---> 28\u001b[0m os\u001b[38;5;241m.\u001b[39mrename(\u001b[38;5;124m\"\u001b[39m\u001b[38;5;124mD:\u001b[39m\u001b[38;5;124m\\\u001b[39m\u001b[38;5;124mprogramming\u001b[39m\u001b[38;5;124m\\\u001b[39m\u001b[38;5;124mPython\u001b[39m\u001b[38;5;124m\\\u001b[39m\u001b[38;5;124mScripts and codes\u001b[39m\u001b[38;5;124m\\\u001b[39m\u001b[38;5;124mComputer vision\u001b[39m\u001b[38;5;124m\\\u001b[39m\u001b[38;5;124mResources\u001b[39m\u001b[38;5;124m\\\u001b[39m\u001b[38;5;124msave\u001b[39m\u001b[38;5;124m\\\u001b[39m\u001b[38;5;124mSaved_at_.txt\u001b[39m\u001b[38;5;124m\"\u001b[39m,\n\u001b[0;32m     29\u001b[0m           \u001b[38;5;124mf\u001b[39m\u001b[38;5;124m\"\u001b[39m\u001b[38;5;124mD:\u001b[39m\u001b[38;5;124m\\\u001b[39m\u001b[38;5;124mprogramming\u001b[39m\u001b[38;5;124m\\\u001b[39m\u001b[38;5;124mPython\u001b[39m\u001b[38;5;124m\\\u001b[39m\u001b[38;5;124mScripts and codes\u001b[39m\u001b[38;5;124m\\\u001b[39m\u001b[38;5;124mComputer vision\u001b[39m\u001b[38;5;124m\\\u001b[39m\u001b[38;5;124mResources\u001b[39m\u001b[38;5;124m\\\u001b[39m\u001b[38;5;124msave\u001b[39m\u001b[38;5;124m\\\u001b[39m\u001b[38;5;124m \u001b[39m\u001b[38;5;132;01m{\u001b[39;00msave_name\u001b[38;5;132;01m}\u001b[39;00m\u001b[38;5;124m \u001b[39m\u001b[38;5;124m\"\u001b[39m)\n",
      "\u001b[1;31mPermissionError\u001b[0m: [WinError 32] The process cannot access the file because it is being used by another process: 'D:\\\\programming\\\\Python\\\\Scripts and codes\\\\Computer vision\\\\Resources\\\\save\\\\Saved_at_.txt' -> 'D:\\\\programming\\\\Python\\\\Scripts and codes\\\\Computer vision\\\\Resources\\\\save\\\\ Saved_at_2023-10-05 20 4 59.txt '"
     ]
    }
   ],
   "source": [
    "import cv2 as cv\n",
    "import time, datetime, pytesseract, os\n",
    "import  pyttsx3\n",
    "\n",
    "class OCR_ENGINE:\n",
    "    def __init__(self, image_path, text_file_path):\n",
    "        self.image_path = image_path\n",
    "        self.text_file_path = text_file_path\n",
    "\n",
    "    def ocr(self,image_path, text_file_path):\n",
    "            # By default OpenCV stores images in BGR format and since pytesseract assumes RGB format,\n",
    "            # we need to convert from BGR to RGB format/mode:\n",
    "            image = cv.imread(image_path)\n",
    "            image = cv.cvtColor(image, cv.COLOR_BGR2RGB)\n",
    "            extracted_text = pytesseract.image_to_string(image)\n",
    "            # specify the text file path to save the extracted text\n",
    "            with open(f\"{text_file_path}\\Saved_at_.txt\", \"w+\") as read_text:\n",
    "                read_text.write(extracted_text)\n",
    "                write_time = str(datetime.datetime.now().date()) +' ' + str(datetime.datetime.now().hour) + ' ' +  str(datetime.datetime.now().minute) +' ' +  str(datetime.datetime.now().second)\n",
    "                save_name= 'Saved_at_' + write_time +'.txt'\n",
    "                read_text.seek(0)\n",
    "                text_content = read_text.read()\n",
    "                engine = pyttsx3.init()\n",
    "                engine.setProperty('rate', 150)\n",
    "                #print(engine.getProperty('rate')) #printing current voice rate\n",
    "                print(text_content)\n",
    "                engine.say(text_content)\n",
    "                engine.runAndWait()\n",
    "                #renaming the file for better readability\n",
    "                os.rename(f\"{text_file_path}\\Saved_at_.txt\",\n",
    "                          f\"{text_file_path}\\ {save_name}\")\n",
    "\n",
    "def main():\n",
    "    create_text_file_path = \"D:\\programming\\Python\\Scripts and codes\\Computer vision\\Resources\\save\"\n",
    "    image = \"D:\\programming\\Python\\Scripts and codes\\Computer vision\\Resources\\Test3.png\"\n",
    "    ocr_engine = OCR_ENGINE(image, create_text_file_path)  # create an instance of OCR_ENGINE\n",
    "    ocr_engine.ocr(image, create_text_file_path)  # call the ocr method on the instance\n",
    "\n",
    "if __name__ == \"__main__\":\n",
    "    main()"
   ]
  }
 ],
 "metadata": {
  "kernelspec": {
   "display_name": "Python 3 (ipykernel)",
   "language": "python",
   "name": "python3"
  },
  "language_info": {
   "codemirror_mode": {
    "name": "ipython",
    "version": 3
   },
   "file_extension": ".py",
   "mimetype": "text/x-python",
   "name": "python",
   "nbconvert_exporter": "python",
   "pygments_lexer": "ipython3",
   "version": "3.11.4"
  }
 },
 "nbformat": 4,
 "nbformat_minor": 5
}
