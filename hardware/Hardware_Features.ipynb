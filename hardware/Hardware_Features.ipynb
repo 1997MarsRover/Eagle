{
 "cells": [
  {
   "cell_type": "markdown",
   "id": "53b1865a-71de-494f-8cf3-417406b5babc",
   "metadata": {},
   "source": [
    "## Raspberry Pi 4B"
   ]
  },
  {
   "cell_type": "markdown",
   "id": "e76544e3-5498-4247-9159-fdba17744400",
   "metadata": {},
   "source": [
    "![Raspberry Pi 4B](https://shop.ivyliam.com/wp-content/uploads/2022/02/TOPDOWN_stamp8888-600x429.jpg)\n"
   ]
  },
  {
   "cell_type": "markdown",
   "id": "2d69a077-703f-471c-97b5-887b255a3727",
   "metadata": {},
   "source": [
    "For the set up of the Raspberry PI 4B, click [Raspberry pi 4b setup procedure](https://projects.raspberrypi.org/en/projects/raspberry-pi-setting-up/0) to be redirected to the official set up procedure in raspberry pi website."
   ]
  },
  {
   "cell_type": "markdown",
   "id": "ad0b7c4c-7bb1-4ad3-b11d-b144b505b84e",
   "metadata": {
    "tags": []
   },
   "source": [
    "## Specifications\n",
    "Broadcom BCM2711, Quad core Cortex-A72 (ARM v8) 64-bit SoC @ 1.8GHz\n",
    "8GB LPDDR4-3200 SDRAM.\n",
    "2.4 GHz and 5.0 GHz IEEE 802.11ac wireless, Bluetooth 5.0, BLE\n",
    "Gigabit Ethernet.\n",
    "2 USB 3.0 ports; 2 USB 2.0 ports.\n",
    "Raspberry Pi standard 40 pin GPIO header (fully backwards compatible with previous boards)\n",
    "2 × micro-HDMI® ports (up to 4kp60 supported)\n",
    "2-lane MIPI DSI display port\n",
    "2-lane MIPI CSI camera port\n",
    "4-pole stereo audio and composite video port\n",
    "H.265 (4kp60 decode), H264 (1080p60 decode, 1080p30 encode)\n",
    "OpenGL ES 3.1, Vulkan 1.0\n",
    "Micro-SD card slot for loading operating system and data storage\n",
    "5V DC via USB-C connector (minimum 3A*)\n",
    "5V DC via GPIO header (minimum 3A*)\n",
    "Power over Ethernet (PoE) enabled (requires separate PoE HAT)\n",
    "Operating temperature: 0 – 50 degrees C ambient\n",
    "A good quality 2.5A power supply can be used if downstream USB peripherals consume less than 500mA in total.\n"
   ]
  },
  {
   "cell_type": "code",
   "execution_count": null,
   "id": "f0de4492-fcde-4527-bea5-5555a29c62f5",
   "metadata": {},
   "outputs": [],
   "source": []
  }
 ],
 "metadata": {
  "kernelspec": {
   "display_name": "Python 3 (ipykernel)",
   "language": "python",
   "name": "python3"
  },
  "language_info": {
   "codemirror_mode": {
    "name": "ipython",
    "version": 3
   },
   "file_extension": ".py",
   "mimetype": "text/x-python",
   "name": "python",
   "nbconvert_exporter": "python",
   "pygments_lexer": "ipython3",
   "version": "3.11.4"
  }
 },
 "nbformat": 4,
 "nbformat_minor": 5
}
